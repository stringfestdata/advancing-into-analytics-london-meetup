{
 "cells": [
  {
   "cell_type": "markdown",
   "metadata": {},
   "source": [
    "First, let's create a small DataFrame of the land areas of the boroughs of New York City:"
   ]
  },
  {
   "cell_type": "code",
   "execution_count": null,
   "metadata": {},
   "outputs": [],
   "source": [
    "#!conda install \n",
    "\n",
    "import pandas as pd\n",
    "import xlsxwriter\n",
    "\n",
    "# Create a DataFrame of land sizes of NYC boroughs\n",
    "data = {'borough':['The Bronx', 'Brooklyn', 'Manhattan', 'Queens', 'Staten Island'],'land_area':[42.10,70.82,22.83,108.53,58.37]}\n",
    "\n",
    "df = pd.DataFrame(data)\n",
    "\n",
    "# Doesn't this look familiar?\n",
    "df\n"
   ]
  },
  {
   "cell_type": "code",
   "execution_count": 1,
   "metadata": {},
   "outputs": [
    {
     "name": "stderr",
     "output_type": "stream",
     "text": [
      "C:\\Users\\GeorgeM\\anaconda3\\lib\\site-packages\\seaborn\\utils.py:384: GuessedAtParserWarning: No parser was explicitly specified, so I'm using the best available HTML parser for this system (\"lxml\"). This usually isn't a problem, but if you run this code on another system, or in a different virtual environment, it may use a different parser and behave differently.\n",
      "\n",
      "The code that caused this warning is on line 384 of the file C:\\Users\\GeorgeM\\anaconda3\\lib\\site-packages\\seaborn\\utils.py. To get rid of this warning, pass the additional argument 'features=\"lxml\"' to the BeautifulSoup constructor.\n",
      "\n",
      "  gh_list = BeautifulSoup(http)\n"
     ]
    },
    {
     "data": {
      "text/plain": [
       "['anagrams',\n",
       " 'anscombe',\n",
       " 'attention',\n",
       " 'brain_networks',\n",
       " 'car_crashes',\n",
       " 'diamonds',\n",
       " 'dots',\n",
       " 'exercise',\n",
       " 'flights',\n",
       " 'fmri',\n",
       " 'gammas',\n",
       " 'geyser',\n",
       " 'iris',\n",
       " 'mpg',\n",
       " 'penguins',\n",
       " 'planets',\n",
       " 'tips',\n",
       " 'titanic']"
      ]
     },
     "execution_count": 1,
     "metadata": {},
     "output_type": "execute_result"
    }
   ],
   "source": [
    "import seaborn as sns\n",
    "sns.get_dataset_names()"
   ]
  },
  {
   "cell_type": "markdown",
   "metadata": {},
   "source": [
    "Let's say we wanted to load this DataFrame into a workbook and format the output with `xlsxwriter`.\n",
    "\n",
    "Unfortunately, `pandas` DataFrames take a couple of extra steps to use with `xlsxwriter`. Here are our steps:\n",
    "\n",
    "1. Set the `pandas` Excel-writing engine to `xlsxwriter` with `ExcelWriter()`.  \n",
    "2. Convert the DataFrame into an `xlsxwriter` object with `to_excel()`.  \n",
    "3. Create workbook and worksheet objects for the resulting output with `writer.book` and `writer.sheets`.\n",
    "\n",
    "Let's take a look: "
   ]
  },
  {
   "cell_type": "code",
   "execution_count": null,
   "metadata": {},
   "outputs": [],
   "source": [
    "# Set Pandas engine to xlsxwriter\n",
    "writer = pd.ExcelWriter('nycland.xlsx', engine='xlsxwriter')\n",
    "\n",
    "# Convert the dataframe to an XlsxWriter Excel object.\n",
    "df.to_excel(writer, sheet_name='Sheet1')\n",
    "\n",
    "# Get the xlsxwriter objects from the DataFrame writer object.\n",
    "workbook  = writer.book\n",
    "worksheet = writer.sheets['Sheet1']"
   ]
  },
  {
   "cell_type": "markdown",
   "metadata": {},
   "source": [
    "Were you to close your workbook now, you would see something like the below.\n",
    "\n",
    "![DataFrame index visible in Excel export](images/nyc-land-index.png)\n",
    "\n",
    "\n",
    "-  By default, our DataFrame will be written starting in `A1` of the worksheet. To write it elsewhere, check out this [`pandas` documentation](https://pandas.pydata.org/pandas-docs/stable/reference/api/pandas.DataFrame.to_excel.html).  \n",
    "\n",
    "\n",
    "-  The numbers in column `A` represent the ***index*** of the DataFrame. Indexes are great for hleping us access and manipulate data in `pandas`, but aren't so helpful in our finished Excel export. \n",
    "\n",
    "\n",
    "We can hide the index from displaying by including `Index = False` in our `to_excel()` method.\n",
    "\n",
    "Let's try this again:"
   ]
  },
  {
   "cell_type": "code",
   "execution_count": null,
   "metadata": {},
   "outputs": [],
   "source": [
    "# Set Pandas engine to xlsxwriter\n",
    "writer = pd.ExcelWriter('nycland.xlsx', engine='xlsxwriter')\n",
    "\n",
    "# Convert the dataframe to an XlsxWriter Excel object.\n",
    "### index = 'False' ###\n",
    "df.to_excel(writer, sheet_name='Sheet1', index=False)\n",
    "\n",
    "# Get the xsxwriter objects from the dataframe writer object.\n",
    "workbook  = writer.book\n",
    "worksheet = writer.sheets['Sheet1']\n",
    "\n",
    "workbook.close()"
   ]
  },
  {
   "cell_type": "markdown",
   "metadata": {},
   "source": [
    "## Customizing `pandas` output with `xlsxwriter`\n",
    "\n",
    "You may remember that we were writing `pandas` DataFrames to Excel back at the beginning of this course. Why do it this newfangled way now?\n",
    "\n",
    "The benefit of sending our DataFrame to `xlsxwriter` is that we can now add any formatting and analysis to the workbook in ways that would be difficult or impossible in `pandas`. \n",
    "\n",
    "You've already learned several useful methods for customizing workbooks from Python. Let's learn one more. \n",
    "\n",
    "## Conditional formatting\n",
    "\n",
    "Conditional formatting is a great way to add visual elements to data analysis.  \n",
    "\n",
    "The usual disclaimer applies: You'll just get a taste of the possibilities here. For more information on conditional formatting in `xlsxwriter`, check out Chapter 22 of the [`xlsxwriter` guide](https://github.com/jmcnamara/XlsxWriter/blob/master/docs/XlsxWriter.pdf). "
   ]
  },
  {
   "cell_type": "code",
   "execution_count": null,
   "metadata": {},
   "outputs": [],
   "source": [
    "import pandas as pd \n",
    "import xlsxwriter\n",
    "\n",
    "# pandas can read in data from most any source\n",
    "cities = pd.read_csv(\"https://raw.githubusercontent.com/summerofgeorge/training-assets/master/largest-us-cities.csv\")\n",
    "\n",
    "# Convert our population field to be numeric\n",
    "cities['population'] = pd.to_numeric(cities['population'], errors='coerce')\n",
    "\n",
    "# Print the first few rows\n",
    "cities.head()"
   ]
  },
  {
   "cell_type": "markdown",
   "metadata": {},
   "source": [
    "## Creating workbook calculations from `pandas`\n",
    "\n",
    "At the beginning of the class we talked about using Python and Excel *together* to make awesome data products. \n",
    "\n",
    "Let's discuss a bit further about how to draw the \"division of labor\" between these tools:\n",
    "\n",
    "*If it has to do with data analysis, manipulation or visualization, use Python.*\n",
    "\n",
    "*If it has to do with workbook formatting, presentation and end-user interaction, use Excel.*\n",
    "\n",
    "We would like to add a column to our table expressing population density. We could do this in either Excel or Python, but generally, unless the end-user absolutely has to have the formulas written out in Excel, any calculations we perform should be conducted in Python. \n",
    "\n",
    "Fortunately, `pandas` makes it quite easy to create calculated columns. "
   ]
  },
  {
   "cell_type": "code",
   "execution_count": null,
   "metadata": {},
   "outputs": [],
   "source": [
    "# Create rounded population density column in our cities table\n",
    "\n",
    "cities['density'] = cities['population']/cities['land_area']\n",
    "\n",
    "# Check out our new column\n",
    "cities.head()"
   ]
  },
  {
   "cell_type": "markdown",
   "metadata": {},
   "source": [
    "Remember that the way our data looks here in `pandas` is pretty much the way it will look in Excel! So let's clean up our cell formatting as we write to the workbook.\n",
    "\n",
    "We've been writing our custom cell formats in as we wrote data. But with `pandas`, we will be writing all our data in at once, and *then* going back to format it.\n",
    "\n",
    "We can apply cell formatting to columns without writing to them with the `set_column()` method. This is what we used to increase column widths."
   ]
  },
  {
   "cell_type": "code",
   "execution_count": null,
   "metadata": {},
   "outputs": [],
   "source": [
    "# Set Pandas engine to xlsxwriter\n",
    "writer = pd.ExcelWriter('us-cities.xlsx', engine='xlsxwriter')\n",
    "\n",
    "# Convert the dataframe to an XlsxWriter Excel object.\n",
    "cities.to_excel(writer, sheet_name='Sheet1',index=False)\n",
    "\n",
    "# Get the xlsxwriter objects from the DataFrame writer object.\n",
    "workbook  = writer.book\n",
    "worksheet = writer.sheets['Sheet1']\n",
    "\n",
    "# Set up cell formatting \n",
    "thousands_format = workbook.add_format({'num_format':'#,##0'})\n",
    "pct_format = workbook.add_format({'num_format':'0.00%'})\n",
    "\n",
    "# Format our columns -- we will also set the column width here\n",
    "worksheet.set_column('A:A',12)\n",
    "worksheet.set_column('B:B', 10, thousands_format)\n",
    "worksheet.set_column('C:C', 10, pct_format)\n",
    "worksheet.set_column('D:E', 10, thousands_format)"
   ]
  },
  {
   "cell_type": "markdown",
   "metadata": {},
   "source": [
    "### The basics of conditional formatting.\n",
    "\n",
    "To add conditional formatting to our worksheet, we will apply the `conditional_format()` method to our selected cells. "
   ]
  },
  {
   "cell_type": "markdown",
   "metadata": {},
   "source": [
    "#### Greater than/less than\n",
    "\n",
    "We would like to format all of our density values greater than 500 miles as <font color='green'>green</font>.\n",
    "\n",
    "To do so, we will pass a dictionary of our conditional formatting settings and apply that to the range `D2:D11`.\n",
    "\n",
    "As we've done before, we will set a workbook cell format and then include that as our option for cell formatting. "
   ]
  },
  {
   "cell_type": "code",
   "execution_count": null,
   "metadata": {},
   "outputs": [],
   "source": [
    "# Set green fill with dark green text format.\n",
    "# bg_color will set the cell fill by hex code\n",
    "green_format = workbook.add_format({'bg_color': '#C6EFCE',\n",
    "'font_color': '#006100'})\n",
    "\n",
    "\n",
    "worksheet.conditional_format('D2:D11', {'type': 'cell',\n",
    "'criteria': 'greater than',\n",
    "'value': 500,\n",
    "'format': green_format})"
   ]
  },
  {
   "cell_type": "markdown",
   "metadata": {},
   "source": [
    "#### Top *n*/Bottom *n*\n",
    "\n",
    "We can also find the top or bottom *n* values in a range.\n",
    "\n",
    "Let's find the three most and least densely-populated cities, setting them with red and green formats, respectively. "
   ]
  },
  {
   "cell_type": "code",
   "execution_count": null,
   "metadata": {},
   "outputs": [],
   "source": [
    "# Set top three values to red\n",
    "worksheet.conditional_format('E2:E11',{'type':'top',\n",
    "'value':3,\n",
    "'format':green_format})\n",
    "\n",
    "# Now we want a red format\n",
    "red_format = workbook.add_format({'bg_color': '#FFC7CE',\n",
    "'font_color': '#9C0006'})\n",
    "\n",
    "# Apply red format to bottom 3\n",
    "worksheet.conditional_format('E2:E11',{'type':'bottom',\n",
    "'value':3,\n",
    "'format':red_format})"
   ]
  },
  {
   "cell_type": "markdown",
   "metadata": {},
   "source": [
    "#### Data bar\n",
    "\n",
    "We will now add data bars to our population column. Fortunately this time, the formatting is already made for us 🎉.\n",
    "\n",
    "There are ways to customize the data bar settings -- check the documentation for more."
   ]
  },
  {
   "cell_type": "code",
   "execution_count": null,
   "metadata": {},
   "outputs": [],
   "source": [
    "# Format range with data bars\n",
    "worksheet.conditional_format('A2:A11', {'type': 'data_bar'})"
   ]
  },
  {
   "cell_type": "markdown",
   "metadata": {},
   "source": [
    "#### Color scales\n",
    "\n",
    "Similarly, we can apply a pre-set format color scale. Let's try it on the population change column. We will apply a three-color scale:"
   ]
  },
  {
   "cell_type": "code",
   "execution_count": null,
   "metadata": {},
   "outputs": [],
   "source": [
    "# Format range with color scale\n",
    "worksheet.conditional_format('C2:A11', {'type': '3_color_scale'})\n",
    "\n",
    "# That's a wrap!\n",
    "workbook.close()"
   ]
  },
  {
   "cell_type": "markdown",
   "metadata": {},
   "source": [
    "# Drill\n",
    "\n",
    "Complete the code scaffolding to format the following:\n",
    "\n",
    "- Format the cells of boroughs with a land area greater than 50 square miles with a green format.\n",
    "- Add a two-grade color scale to the population column.  \n",
    "\n"
   ]
  },
  {
   "cell_type": "code",
   "execution_count": null,
   "metadata": {},
   "outputs": [],
   "source": [
    "import pandas as pd\n",
    "import xlsxwriter\n",
    "\n",
    "# Create a DataFrame of land sizes of NYC boroughs\n",
    "data = {'borough':['The Bronx', 'Brooklyn', 'Manhattan', 'Queens', 'Staten Island'],'land_area':[42.10,70.82,22.83,108.53,58.37],'population':[1418207,2559903,1628706,2253858,476143]}\n",
    "\n",
    "nyc = pd.DataFrame(data)\n",
    "\n",
    "# Set Pandas engine to xlsxwriter\n",
    "writer = ___('nyc.xlsx', engine=___)\n",
    "\n",
    "# Convert the dataframe to an XlsxWriter Excel object.\n",
    "nyc.to_excel(___, sheet_name='Sheet1', index=False)\n",
    "\n",
    "# Get the xlsxwriter objects from the dataframe writer object\n",
    "workbook  = ___\n",
    "worksheet = ___.sheets['Sheet1']\n",
    "\n",
    "\n",
    "# Set green fill with dark green text format\n",
    "green_format = workbook.add_format({'bg_color': '#C6EFCE',\n",
    "'font_color': '#006100'})\n",
    "\n",
    "# Format cells of boroughs with land area over 50 sq miles\n",
    "# with green format\n",
    "worksheet.___('B2:B6', {'type': 'cell',\n",
    "'criteria': 'greater than',\n",
    "'value': ___,\n",
    "'format': ___})\n",
    "\n",
    "# Format two-grade color scale to the population cells\n",
    "worksheet.conditional_format('C2:C6', {___: '2_color_scale'})\n",
    "\n",
    "# Close the workbook\n",
    "___"
   ]
  }
 ],
 "metadata": {
  "kernelspec": {
   "display_name": "Python 3",
   "language": "python",
   "name": "python3"
  },
  "language_info": {
   "codemirror_mode": {
    "name": "ipython",
    "version": 3
   },
   "file_extension": ".py",
   "mimetype": "text/x-python",
   "name": "python",
   "nbconvert_exporter": "python",
   "pygments_lexer": "ipython3",
   "version": "3.8.3"
  }
 },
 "nbformat": 4,
 "nbformat_minor": 2
}
